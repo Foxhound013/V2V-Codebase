{
 "cells": [
  {
   "cell_type": "code",
   "execution_count": 1,
   "metadata": {},
   "outputs": [],
   "source": [
    "import pandas as pd\n",
    "import numpy as np"
   ]
  },
  {
   "cell_type": "code",
   "execution_count": 2,
   "metadata": {},
   "outputs": [
    {
     "name": "stdout",
     "output_type": "stream",
     "text": [
      "(4802933, 9)\n"
     ]
    }
   ],
   "source": [
    "PATH_LOAD1 = \"us-101.csv\"\n",
    "df1 = pd.read_csv(PATH_LOAD1)\n",
    "print(df1.shape)"
   ]
  },
  {
   "cell_type": "code",
   "execution_count": 3,
   "metadata": {},
   "outputs": [
    {
     "name": "stdout",
     "output_type": "stream",
     "text": [
      "(1607319, 9)\n"
     ]
    }
   ],
   "source": [
    "PATH_LOAD2 = \"lankershim.csv\"\n",
    "df2 = pd.read_csv(PATH_LOAD2)\n",
    "print(df2.shape)"
   ]
  },
  {
   "cell_type": "code",
   "execution_count": 4,
   "metadata": {},
   "outputs": [
    {
     "data": {
      "text/html": [
       "<div>\n",
       "<style scoped>\n",
       "    .dataframe tbody tr th:only-of-type {\n",
       "        vertical-align: middle;\n",
       "    }\n",
       "\n",
       "    .dataframe tbody tr th {\n",
       "        vertical-align: top;\n",
       "    }\n",
       "\n",
       "    .dataframe thead th {\n",
       "        text-align: right;\n",
       "    }\n",
       "</style>\n",
       "<table border=\"1\" class=\"dataframe\">\n",
       "  <thead>\n",
       "    <tr style=\"text-align: right;\">\n",
       "      <th></th>\n",
       "      <th>Unnamed: 0</th>\n",
       "      <th>Vehicle_ID</th>\n",
       "      <th>Global_Time</th>\n",
       "      <th>Real_Time</th>\n",
       "      <th>Local_X</th>\n",
       "      <th>Local_Y</th>\n",
       "      <th>v_Vel</th>\n",
       "      <th>Lane_ID</th>\n",
       "      <th>Movement</th>\n",
       "    </tr>\n",
       "  </thead>\n",
       "  <tbody>\n",
       "    <tr>\n",
       "      <th>0</th>\n",
       "      <td>0</td>\n",
       "      <td>5</td>\n",
       "      <td>1118846979700</td>\n",
       "      <td>2005-06-15 10:49:39.7</td>\n",
       "      <td>39.788</td>\n",
       "      <td>39.154</td>\n",
       "      <td>40.0</td>\n",
       "      <td>4</td>\n",
       "      <td>NaN</td>\n",
       "    </tr>\n",
       "  </tbody>\n",
       "</table>\n",
       "</div>"
      ],
      "text/plain": [
       "   Unnamed: 0  Vehicle_ID    Global_Time              Real_Time  Local_X  \\\n",
       "0           0           5  1118846979700  2005-06-15 10:49:39.7   39.788   \n",
       "\n",
       "   Local_Y  v_Vel  Lane_ID  Movement  \n",
       "0   39.154   40.0        4       NaN  "
      ]
     },
     "execution_count": 4,
     "metadata": {},
     "output_type": "execute_result"
    }
   ],
   "source": [
    "df1.head(1)"
   ]
  },
  {
   "cell_type": "code",
   "execution_count": 5,
   "metadata": {},
   "outputs": [
    {
     "data": {
      "text/html": [
       "<div>\n",
       "<style scoped>\n",
       "    .dataframe tbody tr th:only-of-type {\n",
       "        vertical-align: middle;\n",
       "    }\n",
       "\n",
       "    .dataframe tbody tr th {\n",
       "        vertical-align: top;\n",
       "    }\n",
       "\n",
       "    .dataframe thead th {\n",
       "        text-align: right;\n",
       "    }\n",
       "</style>\n",
       "<table border=\"1\" class=\"dataframe\">\n",
       "  <thead>\n",
       "    <tr style=\"text-align: right;\">\n",
       "      <th></th>\n",
       "      <th>Unnamed: 0</th>\n",
       "      <th>Vehicle_ID</th>\n",
       "      <th>Global_Time</th>\n",
       "      <th>Real_Time</th>\n",
       "      <th>Local_X</th>\n",
       "      <th>Local_Y</th>\n",
       "      <th>v_Vel</th>\n",
       "      <th>Lane_ID</th>\n",
       "      <th>Movement</th>\n",
       "    </tr>\n",
       "  </thead>\n",
       "  <tbody>\n",
       "    <tr>\n",
       "      <th>0</th>\n",
       "      <td>0</td>\n",
       "      <td>63</td>\n",
       "      <td>1118935680200</td>\n",
       "      <td>2005-06-16 11:28:00.2</td>\n",
       "      <td>44.589</td>\n",
       "      <td>67.404</td>\n",
       "      <td>0.0</td>\n",
       "      <td>2</td>\n",
       "      <td>3.0</td>\n",
       "    </tr>\n",
       "  </tbody>\n",
       "</table>\n",
       "</div>"
      ],
      "text/plain": [
       "   Unnamed: 0  Vehicle_ID    Global_Time              Real_Time  Local_X  \\\n",
       "0           0          63  1118935680200  2005-06-16 11:28:00.2   44.589   \n",
       "\n",
       "   Local_Y  v_Vel  Lane_ID  Movement  \n",
       "0   67.404    0.0        2       3.0  "
      ]
     },
     "execution_count": 5,
     "metadata": {},
     "output_type": "execute_result"
    }
   ],
   "source": [
    "df2.head(1)"
   ]
  },
  {
   "cell_type": "code",
   "execution_count": 6,
   "metadata": {},
   "outputs": [
    {
     "data": {
      "text/html": [
       "<div>\n",
       "<style scoped>\n",
       "    .dataframe tbody tr th:only-of-type {\n",
       "        vertical-align: middle;\n",
       "    }\n",
       "\n",
       "    .dataframe tbody tr th {\n",
       "        vertical-align: top;\n",
       "    }\n",
       "\n",
       "    .dataframe thead th {\n",
       "        text-align: right;\n",
       "    }\n",
       "</style>\n",
       "<table border=\"1\" class=\"dataframe\">\n",
       "  <thead>\n",
       "    <tr style=\"text-align: right;\">\n",
       "      <th></th>\n",
       "      <th>Unnamed: 0</th>\n",
       "      <th>Vehicle_ID</th>\n",
       "      <th>Global_Time</th>\n",
       "      <th>Real_Time</th>\n",
       "      <th>Local_X</th>\n",
       "      <th>Local_Y</th>\n",
       "      <th>v_Vel</th>\n",
       "      <th>Lane_ID</th>\n",
       "      <th>Movement</th>\n",
       "    </tr>\n",
       "  </thead>\n",
       "  <tbody>\n",
       "    <tr>\n",
       "      <th>4802932</th>\n",
       "      <td>4802932</td>\n",
       "      <td>1948</td>\n",
       "      <td>1118849752200</td>\n",
       "      <td>2005-06-15 11:35:52.2</td>\n",
       "      <td>32.147</td>\n",
       "      <td>2162.848</td>\n",
       "      <td>46.04</td>\n",
       "      <td>3</td>\n",
       "      <td>NaN</td>\n",
       "    </tr>\n",
       "  </tbody>\n",
       "</table>\n",
       "</div>"
      ],
      "text/plain": [
       "         Unnamed: 0  Vehicle_ID    Global_Time              Real_Time  \\\n",
       "4802932     4802932        1948  1118849752200  2005-06-15 11:35:52.2   \n",
       "\n",
       "         Local_X   Local_Y  v_Vel  Lane_ID  Movement  \n",
       "4802932   32.147  2162.848  46.04        3       NaN  "
      ]
     },
     "execution_count": 6,
     "metadata": {},
     "output_type": "execute_result"
    }
   ],
   "source": [
    "df1.tail(1)"
   ]
  },
  {
   "cell_type": "code",
   "execution_count": 7,
   "metadata": {},
   "outputs": [
    {
     "data": {
      "text/html": [
       "<div>\n",
       "<style scoped>\n",
       "    .dataframe tbody tr th:only-of-type {\n",
       "        vertical-align: middle;\n",
       "    }\n",
       "\n",
       "    .dataframe tbody tr th {\n",
       "        vertical-align: top;\n",
       "    }\n",
       "\n",
       "    .dataframe thead th {\n",
       "        text-align: right;\n",
       "    }\n",
       "</style>\n",
       "<table border=\"1\" class=\"dataframe\">\n",
       "  <thead>\n",
       "    <tr style=\"text-align: right;\">\n",
       "      <th></th>\n",
       "      <th>Unnamed: 0</th>\n",
       "      <th>Vehicle_ID</th>\n",
       "      <th>Global_Time</th>\n",
       "      <th>Real_Time</th>\n",
       "      <th>Local_X</th>\n",
       "      <th>Local_Y</th>\n",
       "      <th>v_Vel</th>\n",
       "      <th>Lane_ID</th>\n",
       "      <th>Movement</th>\n",
       "    </tr>\n",
       "  </thead>\n",
       "  <tbody>\n",
       "    <tr>\n",
       "      <th>1607318</th>\n",
       "      <td>1607318</td>\n",
       "      <td>1573</td>\n",
       "      <td>1118937747000</td>\n",
       "      <td>2005-06-16 12:02:27.0</td>\n",
       "      <td>99.82</td>\n",
       "      <td>389.216</td>\n",
       "      <td>29.49</td>\n",
       "      <td>2</td>\n",
       "      <td>1.0</td>\n",
       "    </tr>\n",
       "  </tbody>\n",
       "</table>\n",
       "</div>"
      ],
      "text/plain": [
       "         Unnamed: 0  Vehicle_ID    Global_Time              Real_Time  \\\n",
       "1607318     1607318        1573  1118937747000  2005-06-16 12:02:27.0   \n",
       "\n",
       "         Local_X  Local_Y  v_Vel  Lane_ID  Movement  \n",
       "1607318    99.82  389.216  29.49        2       1.0  "
      ]
     },
     "execution_count": 7,
     "metadata": {},
     "output_type": "execute_result"
    }
   ],
   "source": [
    "df2.tail(1)"
   ]
  },
  {
   "cell_type": "code",
   "execution_count": 8,
   "metadata": {},
   "outputs": [
    {
     "name": "stdout",
     "output_type": "stream",
     "text": [
      "2847\n",
      "1506\n"
     ]
    }
   ],
   "source": [
    "print(len(df1.groupby(['Vehicle_ID']).size()))\n",
    "print(len(df2.groupby(['Vehicle_ID']).size()))"
   ]
  },
  {
   "cell_type": "code",
   "execution_count": 9,
   "metadata": {},
   "outputs": [],
   "source": [
    "# Define a fucntion to calculate the distance between two cars\n",
    "def calDistance(carLoc1, carLoc2):\n",
    "    x1 = carLoc1[0]\n",
    "    y1 = carLoc1[1]\n",
    "    x2 = carLoc2[0]\n",
    "    y2 = carLoc2[1]\n",
    "    return round(np.sqrt((x1 - x2)**2 + (y1 - y2)**2))"
   ]
  },
  {
   "cell_type": "markdown",
   "metadata": {},
   "source": [
    "### US-101"
   ]
  },
  {
   "cell_type": "code",
   "execution_count": 10,
   "metadata": {},
   "outputs": [
    {
     "data": {
      "text/plain": [
       "Int64Index([1118846979700, 1118846979800, 1118846979900, 1118846980000,\n",
       "            1118846980100, 1118846980200, 1118846980300, 1118846980400,\n",
       "            1118846980500, 1118846980600,\n",
       "            ...\n",
       "            1118849751300, 1118849751400, 1118849751500, 1118849751600,\n",
       "            1118849751700, 1118849751800, 1118849751900, 1118849752000,\n",
       "            1118849752100, 1118849752200],\n",
       "           dtype='int64', name='Global_Time', length=27726)"
      ]
     },
     "execution_count": 10,
     "metadata": {},
     "output_type": "execute_result"
    }
   ],
   "source": [
    "timeList1 = df1.groupby(['Global_Time']).size()\n",
    "timeList1.index"
   ]
  },
  {
   "cell_type": "code",
   "execution_count": 15,
   "metadata": {},
   "outputs": [
    {
     "name": "stdout",
     "output_type": "stream",
     "text": [
      "The maximum vehicle headway is 2195.0 feets.\n",
      "The minimum vehicle headway is 0.0 feets.\n",
      "The average vehicle headway is 688.4350796180776 feets.\n",
      "The median vehicle headway is 597.0 feets.\n"
     ]
    }
   ],
   "source": [
    "distanceList1 = []\n",
    "\n",
    "for time in timeList1.index:\n",
    "#     print(time)\n",
    "    dfTime = df1[df1['Global_Time'] == time]\n",
    "    carLocList = [[x, y] for x, y in zip(dfTime.loc[:, 'Local_X'], dfTime.loc[:, 'Local_Y'])]\n",
    "    carNum = len(carLocList)\n",
    "    for i in range(carNum - 1):\n",
    "        for j in range(i + 1, carNum):\n",
    "            dis = calDistance(carLocList[i], carLocList[j])\n",
    "            distanceList1.append(dis)\n",
    "\n",
    "distanceArray1 = np.array(distanceList1)\n",
    "print('The maximum vehicle headway is', max(distanceList1), 'feets.')\n",
    "print('The minimum vehicle headway is', min(distanceList1), 'feets.')\n",
    "print('The average vehicle headway is', np.mean(distanceArray1), 'feets.')\n",
    "print('The median vehicle headway is', np.median(distanceArray1), 'feets.')"
   ]
  },
  {
   "cell_type": "markdown",
   "metadata": {},
   "source": [
    "### Lankershim"
   ]
  },
  {
   "cell_type": "code",
   "execution_count": 14,
   "metadata": {},
   "outputs": [
    {
     "name": "stdout",
     "output_type": "stream",
     "text": [
      "The maximum vehicle headway is 1640.0 feets.\n",
      "The minimum vehicle headway is 0.0 feets.\n",
      "The average vehicle headway is 512.8853229649293 feets.\n",
      "The median vehicle headway is 409.0 feets.\n"
     ]
    }
   ],
   "source": [
    "timeList2 = df2.groupby(['Global_Time']).size()\n",
    "timeList2.index\n",
    "\n",
    "distanceList2 = []\n",
    "\n",
    "for time in timeList2.index:\n",
    "#     print(time)\n",
    "    dfTime = df2[df2['Global_Time'] == time]\n",
    "    carLocList = [[x, y] for x, y in zip(dfTime.loc[:, 'Local_X'], dfTime.loc[:, 'Local_Y'])]\n",
    "    carNum = len(carLocList)\n",
    "    for i in range(carNum - 1):\n",
    "        for j in range(i + 1, carNum):\n",
    "            dis = calDistance(carLocList[i], carLocList[j])\n",
    "            distanceList2.append(dis)\n",
    "\n",
    "distanceArray2 = np.array(distanceList2)\n",
    "print('The maximum vehicle headway is', max(distanceList2), 'feets.')\n",
    "print('The minimum vehicle headway is', min(distanceList2), 'feets.')\n",
    "print('The average vehicle headway is', np.mean(distanceArray2), 'feets.')\n",
    "print('The median vehicle headway is', np.median(distanceArray2), 'feets.')"
   ]
  },
  {
   "cell_type": "code",
   "execution_count": null,
   "metadata": {},
   "outputs": [],
   "source": []
  }
 ],
 "metadata": {
  "kernelspec": {
   "display_name": "Python 3",
   "language": "python",
   "name": "python3"
  },
  "language_info": {
   "codemirror_mode": {
    "name": "ipython",
    "version": 3
   },
   "file_extension": ".py",
   "mimetype": "text/x-python",
   "name": "python",
   "nbconvert_exporter": "python",
   "pygments_lexer": "ipython3",
   "version": "3.6.5"
  }
 },
 "nbformat": 4,
 "nbformat_minor": 2
}
